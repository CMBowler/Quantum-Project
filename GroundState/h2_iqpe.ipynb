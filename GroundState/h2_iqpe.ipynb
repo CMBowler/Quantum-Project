{
 "cells": [
  {
   "cell_type": "markdown",
   "metadata": {},
   "source": [
    "Import all required modules"
   ]
  },
  {
   "cell_type": "code",
   "execution_count": 1,
   "metadata": {},
   "outputs": [],
   "source": [
    "import os\n",
    "import sys\n",
    "import numpy as np\n",
    "import matplotlib.pyplot as plt\n",
    "import pyscf\n",
    "from scipy.linalg import expm\n",
    "\n",
    "from qiskit_nature.second_q.drivers import PySCFDriver\n",
    "from qiskit_nature.second_q.mappers import ParityMapper\n",
    "from qiskit_nature.second_q.algorithms import GroundStateEigensolver\n",
    "from qiskit_nature.second_q.circuit.library import HartreeFock\n",
    "\n",
    "from qiskit_algorithms import NumPyMinimumEigensolver\n",
    "from qiskit_algorithms.optimizers import OptimizerResult\n",
    "from qiskit_algorithms import VQE\n",
    "from qiskit_algorithms import PhaseEstimation\n",
    "\n",
    "from qiskit.primitives import StatevectorSampler, Sampler\n",
    "from qiskit import QuantumCircuit, QuantumRegister, ClassicalRegister\n",
    "from qiskit.circuit.library import UnitaryGate\n",
    "from qiskit.transpiler.preset_passmanagers import generate_preset_pass_manager\n",
    "from qiskit.visualization import plot_histogram\n",
    "\n",
    "from qiskit_ibm_runtime import SamplerV2\n",
    "from qiskit_ibm_runtime import QiskitRuntimeService\n"
   ]
  },
  {
   "cell_type": "markdown",
   "metadata": {},
   "source": [
    "Declare global variables and define plotting functions"
   ]
  },
  {
   "cell_type": "code",
   "execution_count": 10,
   "metadata": {},
   "outputs": [],
   "source": [
    "GRAPHS_DIR = 'graphs'\n",
    "\n",
    "bond_lengths = [\n",
    "    0.05,\n",
    "    0.4,\n",
    "    0.735,\n",
    "    1.5,\n",
    "    3.0,\n",
    "    6.0\n",
    "]\n",
    "\n",
    "def makePlotFile(filename):\n",
    "    output_file = os.path.join(GRAPHS_DIR, filename)  # Full file path\n",
    "\n",
    "    # Create the directory if it doesn't exist\n",
    "    if not os.path.exists(GRAPHS_DIR):\n",
    "        os.makedirs(GRAPHS_DIR)\n",
    "\n",
    "    return output_file\n",
    "\n",
    "def plot_energy(points):\n",
    "    print(\"Plotting Energy\")\n",
    "\n",
    "    # Unpack the x and y coordinates\n",
    "    x_coords = [point[0] for point in points]\n",
    "    y_coords = [point[1] for point in points]\n",
    "\n",
    "    # Create the plot\n",
    "    plt.scatter(x_coords, y_coords, color='blue', label='Points')  # Plot the points\n",
    "    plt.plot(x_coords, y_coords, color='red', linestyle='--', label='Line')  # Connect the points with a line\n",
    "\n",
    "    # Add labels and title\n",
    "    plt.xlabel('R (a.u.)')\n",
    "    plt.ylabel('E - 1/R (a.u.)')\n",
    "    plt.title('Plot of Energy')\n",
    "    plt.legend()\n",
    "\n",
    "    # Show the plot\n",
    "    plt.grid(True)\n",
    "    plt.savefig(\"graphs/energies.png\")\n",
    "\n",
    "    print(\"Plotting Alt. Energy\")\n",
    "    plt.clf()\n",
    "    # Unpack the x and y coordinates\n",
    "    x_coords = [point[0] for point in points]\n",
    "    y_coords = [(point[1] + 1/point[0]) for point in points]\n",
    "\n",
    "    # Create the plot\n",
    "    plt.scatter(x_coords, y_coords, color='blue', label='Points')  # Plot the points\n",
    "    plt.plot(x_coords, y_coords, color='red', linestyle='--', label='Line')  # Connect the points with a line\n",
    "\n",
    "    # Add labels and title\n",
    "    plt.xlabel('R (a.u.)')\n",
    "    plt.ylabel('E (a.u.)')\n",
    "    plt.title('Plot of Energy*')\n",
    "    plt.legend()\n",
    "\n",
    "    # Show the plot\n",
    "    plt.grid(True)\n",
    "    plt.savefig(\"graphs/alt-energies.png\")\n",
    "\n",
    "\n",
    "def saveResults(resolution, results):\n",
    "    print(\"Saving Results\")\n",
    "\n",
    "    energies = []\n",
    "\n",
    "    for i, result in enumerate(results):\n",
    "        counts = result.data.res.get_counts()\n",
    "        fig = plot_histogram(counts)\n",
    "\n",
    "        result_file = makePlotFile(f'qpe_hist_bl={bond_lengths[i]}.png')\n",
    "        fig.savefig(result_file)\n",
    "\n",
    "        # get the most frequent result\n",
    "        max_key, max_value = max(counts.items(), key=lambda x: x[1])\n",
    "        # Reverse the string with this circuit because the \n",
    "        # first is the least significative bit, etc.\n",
    "        phi = int(max_key[::-1], 2) / ((2**resolution) - 1)\n",
    "\n",
    "        energy = 2*np.pi * (phi - 1)\n",
    "        energies.append((bond_lengths[i], energy))\n",
    "\n",
    "        print(f'phi = {phi} => best approximation with 3 bits = {energy:.2f} Ha')\n",
    "\n",
    "    plot_energy(energies)\n"
   ]
  },
  {
   "cell_type": "markdown",
   "metadata": {},
   "source": [
    "Define Quantum Circuit construction functions"
   ]
  },
  {
   "cell_type": "code",
   "execution_count": 3,
   "metadata": {},
   "outputs": [],
   "source": [
    "def QPE_circuit(bond_length):\n",
    "    driver = PySCFDriver(atom=f'H .0 .0 .0; H .0 .0 {bond_length}', basis='sto3g')\n",
    "    molecule = driver.run()\n",
    "    hamiltonian = molecule.hamiltonian.second_q_op()\n",
    "    mapper = ParityMapper(num_particles=molecule.num_particles)\n",
    "    tapered_mapper = molecule.get_tapered_mapper(mapper)\n",
    "    qubit_op = tapered_mapper.map(hamiltonian)\n",
    "\n",
    "    state_in = HartreeFock(molecule.num_spatial_orbitals, molecule.num_particles, tapered_mapper)\n",
    "    U = UnitaryGate(expm(1j*qubit_op.to_matrix()))\n",
    "\n",
    "    return U, state_in\n",
    "\n",
    "def opCircuit(pm, circuit):\n",
    "    print(\"Optimising Circuit: \" + circuit.name)\n",
    "    isa_circuit = pm.run(circuit)\n",
    "    isa_circuit.count_ops()\n",
    "\n",
    "    return isa_circuit\n",
    "\n",
    "def targetCircuit(num_result_bits, bond_length):\n",
    "    print(f\"Creating Initial Circuit: bl={bond_length}\")\n",
    "\n",
    "    qpe = PhaseEstimation(num_result_bits, StatevectorSampler())\n",
    "\n",
    "    U, state_in = QPE_circuit(bond_length)\n",
    "\n",
    "    qr1 = QuantumRegister(num_result_bits, 'control')\n",
    "    qr2 = QuantumRegister(1, 'target')\n",
    "    cr = ClassicalRegister(num_result_bits, 'res')\n",
    "\n",
    "    circuit = QuantumCircuit(qr1, qr2, cr, name=f'bl-{bond_length}')\n",
    "    circuit.compose(qpe.construct_circuit(U, state_in), inplace=True)\n",
    "    circuit.measure(qr1, cr)\n",
    "\n",
    "    return circuit\n"
   ]
  },
  {
   "cell_type": "markdown",
   "metadata": {},
   "source": [
    "Define functions to run quantum circuits on hardware."
   ]
  },
  {
   "cell_type": "code",
   "execution_count": 4,
   "metadata": {},
   "outputs": [],
   "source": [
    "def getBackend():\n",
    "    print(\"Getting Backend\")\n",
    "    service = QiskitRuntimeService(channel=\"ibm_quantum\")\n",
    "    backend = service.backend(name=\"ibm_brisbane\")\n",
    "    print(backend.name)\n",
    "    target = backend.target\n",
    "\n",
    "    return backend, generate_preset_pass_manager(target=target, optimization_level=3)\n",
    "\n",
    "def runCircuits(backend, circuits):\n",
    "    print(\"Running circuits\")\n",
    "\n",
    "    sampler = SamplerV2(mode=backend)\n",
    "\n",
    "    job = sampler.run(circuits)\n",
    "    id = job.job_id()\n",
    "\n",
    "    result = job.result()\n",
    "\n",
    "    service = QiskitRuntimeService()\n",
    "    job = service.job(id)\n",
    "\n",
    "    return job.result()"
   ]
  },
  {
   "cell_type": "markdown",
   "metadata": {},
   "source": [
    "Run the Experiment"
   ]
  },
  {
   "cell_type": "code",
   "execution_count": 5,
   "metadata": {},
   "outputs": [
    {
     "name": "stdout",
     "output_type": "stream",
     "text": [
      "Running Circuits on Hardware\n",
      "Getting Backend\n",
      "ibm_brisbane\n",
      "Creating Initial Circuit: bl=0.05\n",
      "Optimising Circuit: bl-0.05\n",
      "Creating Initial Circuit: bl=0.4\n",
      "Optimising Circuit: bl-0.4\n",
      "Creating Initial Circuit: bl=0.735\n",
      "Optimising Circuit: bl-0.735\n",
      "Creating Initial Circuit: bl=1.5\n",
      "Optimising Circuit: bl-1.5\n",
      "Creating Initial Circuit: bl=3.0\n",
      "Optimising Circuit: bl-3.0\n",
      "Creating Initial Circuit: bl=6.0\n",
      "Optimising Circuit: bl-6.0\n"
     ]
    }
   ],
   "source": [
    "print(\"Running Circuits on Hardware\")\n",
    "\n",
    "backend, pm = getBackend()\n",
    "\n",
    "circuits = []\n",
    "\n",
    "resolution = 3\n",
    "\n",
    "for bond_length in bond_lengths:\n",
    "    circuit = targetCircuit(resolution, bond_length)\n",
    "\n",
    "    isa_circuit = opCircuit(pm, circuit)\n",
    "\n",
    "    circuits.append(isa_circuit)\n",
    "\n",
    "output_file = makePlotFile(f'qpe_circ_bl={bond_length}.png')\n",
    "makePlotFile(f'qpe_circ_bl={bond_length}.png')\n",
    "circuit.decompose().draw(output='mpl', filename=output_file)\n",
    "\n",
    "output_file = makePlotFile(f'qpe_circ_bl={bond_length}.png')\n",
    "makePlotFile(f'qpe_circ_bl={bond_length}.png')\n",
    "isa_circuit.decompose().draw(output='mpl', filename=output_file)\n",
    "\n"
   ]
  },
  {
   "cell_type": "code",
   "execution_count": 6,
   "metadata": {},
   "outputs": [
    {
     "name": "stdout",
     "output_type": "stream",
     "text": [
      "Running circuits\n"
     ]
    }
   ],
   "source": [
    "# Run the circuits on Target Hardware\n",
    "results = runCircuits(backend, circuits)"
   ]
  },
  {
   "cell_type": "code",
   "execution_count": 11,
   "metadata": {},
   "outputs": [
    {
     "name": "stdout",
     "output_type": "stream",
     "text": [
      "Saving Results\n",
      "phi = 0.75 => best approximation with 3 bits = -1.57 Ha\n",
      "phi = 1.25 => best approximation with 3 bits = 1.57 Ha\n",
      "phi = 1.0 => best approximation with 3 bits = 0.00 Ha\n",
      "phi = 1.625 => best approximation with 3 bits = 3.93 Ha\n",
      "phi = 0.75 => best approximation with 3 bits = -1.57 Ha\n",
      "phi = 1.25 => best approximation with 3 bits = 1.57 Ha\n"
     ]
    },
    {
     "data": {
      "image/png": "[encoded data removed]",
      "text/plain": [
       "<Figure size 640x480 with 1 Axes>"
      ]
     },
     "metadata": {},
     "output_type": "display_data"
    }
   ],
   "source": [
    "saveResults(results)"
   ]
  }
 ],
 "metadata": {
  "kernelspec": {
   "display_name": "env",
   "language": "python",
   "name": "env"
  },
  "language_info": {
   "codemirror_mode": {
    "name": "ipython",
    "version": 3
   },
   "file_extension": ".py",
   "mimetype": "text/x-python",
   "name": "python",
   "nbconvert_exporter": "python",
   "pygments_lexer": "ipython3",
   "version": "3.10.15"
  }
 },
 "nbformat": 4,
 "nbformat_minor": 2
}
