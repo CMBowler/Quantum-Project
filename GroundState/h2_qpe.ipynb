{
 "cells": [
  {
   "cell_type": "markdown",
   "metadata": {},
   "source": [
    "## _*H2 ground state energy computation using Quantum Phase Estimation*_\n",
    "\n",
    "This notebook demonstrates using Qiskit Chemistry to compute ground state energy of the Hydrogen (H2) molecule using QPE (Quantum Phase Estimation) algorithm. Let's look at how to carry out such computation programmatically.\n",
    "\n",
    "This notebook has been written to use the PYSCF chemistry driver."
   ]
  },
  {
   "cell_type": "markdown",
   "metadata": {},
   "source": [
    "### Step 1: Map problem to quantum circuits and operators"
   ]
  },
  {
   "cell_type": "code",
   "execution_count": 7,
   "metadata": {},
   "outputs": [],
   "source": [
    "import numpy as np\n",
    "import pyscf\n",
    "from scipy.linalg import expm\n",
    "\n",
    "from qiskit_nature.second_q.drivers import PySCFDriver\n",
    "from qiskit_nature.second_q.mappers import ParityMapper\n",
    "from qiskit_nature.second_q.algorithms import GroundStateEigensolver\n",
    "from qiskit_nature.second_q.circuit.library import HartreeFock\n",
    "\n",
    "from qiskit_algorithms import NumPyMinimumEigensolver\n",
    "from qiskit_algorithms.optimizers import OptimizerResult\n",
    "from qiskit_algorithms import VQE\n",
    "from qiskit_algorithms import PhaseEstimation\n",
    "\n",
    "from qiskit.primitives import StatevectorSampler, Sampler\n",
    "from qiskit import QuantumCircuit, QuantumRegister, ClassicalRegister\n",
    "from qiskit.circuit.library import UnitaryGate\n",
    "from qiskit.transpiler.preset_passmanagers import generate_preset_pass_manager\n",
    "from qiskit.visualization import plot_histogram\n",
    "\n",
    "from qiskit_ibm_runtime import SamplerV2\n",
    "from qiskit_ibm_runtime import QiskitRuntimeService"
   ]
  },
  {
   "cell_type": "markdown",
   "metadata": {},
   "source": [
    "We first set up the H2 molecule, create the fermionic and in turn the qubit operator using PySCF."
   ]
  },
  {
   "cell_type": "code",
   "execution_count": 8,
   "metadata": {},
   "outputs": [],
   "source": [
    "driver = PySCFDriver(atom='H .0 .0 .0; H .0 .0 0.735', basis='sto3g')\n",
    "molecule = driver.run()\n",
    "hamiltonian = molecule.hamiltonian.second_q_op()\n",
    "mapper = ParityMapper(num_particles=molecule.num_particles)\n",
    "tapered_mapper = molecule.get_tapered_mapper(mapper)\n",
    "qubit_op = tapered_mapper.map(hamiltonian)"
   ]
  },
  {
   "cell_type": "markdown",
   "metadata": {},
   "source": [
    "Using a classical exact eigenvalue solver, we can establish the reference groundtruth value of the ground state energy:"
   ]
  },
  {
   "cell_type": "code",
   "execution_count": 9,
   "metadata": {},
   "outputs": [
    {
     "name": "stdout",
     "output_type": "stream",
     "text": [
      "The exact ground state energy is: -1.8572750302023788 Ha\n"
     ]
    }
   ],
   "source": [
    "exact_eigensolver = NumPyMinimumEigensolver()\n",
    "exact_eigensolver.filter_criterion = molecule.get_default_filter_criterion()\n",
    "gse = GroundStateEigensolver(mapper, exact_eigensolver)\n",
    "result = gse.solve(molecule)\n",
    "print(f'The exact ground state energy is: {result.eigenvalues[0]} Ha')"
   ]
  },
  {
   "cell_type": "markdown",
   "metadata": {},
   "source": [
    "Next we set up the QPE algorithm instance using the HartreeFock initial state:"
   ]
  },
  {
   "cell_type": "code",
   "execution_count": 10,
   "metadata": {},
   "outputs": [
    {
     "name": "stdout",
     "output_type": "stream",
     "text": [
      "Ground state energy from QPE: -1.8530487917658545 Ha\n"
     ]
    },
    {
     "name": "stderr",
     "output_type": "stream",
     "text": [
      "/tmp/ipykernel_110889/874579480.py:1: DeprecationWarning: The class ``qiskit.primitives.sampler.Sampler`` is deprecated as of qiskit 1.2. It will be removed no earlier than 3 months after the release date. All implementations of the `BaseSamplerV1` interface have been deprecated in favor of their V2 counterparts. The V2 alternative for the `Sampler` class is `StatevectorSampler`.\n",
      "  qpe = PhaseEstimation(9, Sampler())\n"
     ]
    }
   ],
   "source": [
    "qpe = PhaseEstimation(9, Sampler())\n",
    "\n",
    "state_in = HartreeFock(molecule.num_spatial_orbitals, molecule.num_particles, tapered_mapper)\n",
    "U = UnitaryGate(expm(1j*qubit_op.to_matrix()))\n",
    "\n",
    "result = qpe.estimate(U, state_in)\n",
    "\n",
    "print(f'Ground state energy from QPE: {(result.phase - 1) * 2*np.pi} Ha')"
   ]
  },
  {
   "cell_type": "markdown",
   "metadata": {},
   "source": [
    "As can be easily seen, the QPE computed energy is quite close to the groundtruth value we computed earlier."
   ]
  },
  {
   "cell_type": "markdown",
   "metadata": {},
   "source": [
    "### Step 2: Optimize for target hardware"
   ]
  },
  {
   "cell_type": "code",
   "execution_count": 27,
   "metadata": {},
   "outputs": [
    {
     "data": {
      "image/png": "[encoded data removed]",
      "text/plain": [
       "<Figure size 1206.14x451.5 with 1 Axes>"
      ]
     },
     "execution_count": 27,
     "metadata": {},
     "output_type": "execute_result"
    }
   ],
   "source": [
    "num_result_bits = 3\n",
    "qpe = PhaseEstimation(num_result_bits, StatevectorSampler())\n",
    "\n",
    "qr1 = QuantumRegister(num_result_bits, 'control')\n",
    "qr2 = QuantumRegister(1, 'target')\n",
    "cr = ClassicalRegister(num_result_bits, 'res')\n",
    "circuit = QuantumCircuit(qr1, qr2, cr)\n",
    "circuit.compose(qpe.construct_circuit(U, state_in), inplace=True)\n",
    "circuit.measure(qr1, cr)\n",
    "circuit.decompose().draw(output='mpl')"
   ]
  },
  {
   "cell_type": "code",
   "execution_count": null,
   "metadata": {},
   "outputs": [],
   "source": [
    "from qiskit.ignis.mitigation import expectation_value\n",
    "\n",
    "# Define a set of circuits with additional gates\n",
    "circuits = [circuit, circuit.compose(XGate(), qubits=[0])]\n",
    "\n",
    "# Run circuits and compute expectation value\n",
    "results = execute(circuits, backend=backend, shots=1000).result()\n",
    "mitigated_value = expectation_value(results, circuits)"
   ]
  },
  {
   "cell_type": "code",
   "execution_count": 20,
   "metadata": {},
   "outputs": [
    {
     "name": "stdout",
     "output_type": "stream",
     "text": [
      "ibm_kyiv\n"
     ]
    },
    {
     "data": {
      "text/plain": [
       "OrderedDict([('rz', 55), ('sx', 33), ('ecr', 18), ('measure', 3), ('x', 2)])"
      ]
     },
     "execution_count": 20,
     "metadata": {},
     "output_type": "execute_result"
    }
   ],
   "source": [
    "service = QiskitRuntimeService(channel=\"ibm_quantum\")\n",
    "backend = service.least_busy(operational=True, simulator=False)\n",
    "print(backend.name)\n",
    "target = backend.target\n",
    "pm = generate_preset_pass_manager(target=target, optimization_level=3)\n",
    "\n",
    "isa_circuit = pm.run(circuit)\n",
    "isa_circuit.count_ops()"
   ]
  },
  {
   "cell_type": "markdown",
   "metadata": {},
   "source": [
    "### Step 3: Execute on target hardware"
   ]
  },
  {
   "cell_type": "code",
   "execution_count": 21,
   "metadata": {},
   "outputs": [
    {
     "name": "stdout",
     "output_type": "stream",
     "text": [
      "cz92svqhfwp00087rsxg\n"
     ]
    }
   ],
   "source": [
    "sampler = SamplerV2(mode=backend)\n",
    "\n",
    "job = sampler.run([isa_circuit])\n",
    "\n",
    "result = job.result()\n",
    "id = job.job_id()\n",
    "\n",
    "print(id)"
   ]
  },
  {
   "cell_type": "code",
   "execution_count": 22,
   "metadata": {},
   "outputs": [],
   "source": [
    "from qiskit_ibm_runtime import QiskitRuntimeService\n",
    "\n",
    "service = QiskitRuntimeService()\n",
    "job = service.job(id)\n",
    "job_result = job.result()"
   ]
  },
  {
   "cell_type": "markdown",
   "metadata": {},
   "source": [
    "### Step 4: Post-process results"
   ]
  },
  {
   "cell_type": "code",
   "execution_count": 23,
   "metadata": {},
   "outputs": [
    {
     "data": {
      "text/plain": [
       "' best possible result using 3 bits:\\nphi = 0.c1c2c3 can be: 0 _ 0.125 _ 0.25 _ 0.375 _ ... _ 0.875\\n=> 2pi*(phi - 1) can be: ~ -6.28 _ -5.50 _ -4.71 _ ... _ -2.36 _ -1.57 _ -0.79 _ ... _ 0\\nSo the closest result is -1.57, which corresponds to phi = 0.75 (= 0.110 in binary)\\n'"
      ]
     },
     "execution_count": 23,
     "metadata": {},
     "output_type": "execute_result"
    }
   ],
   "source": [
    "\"\"\" best possible result using 3 bits:\n",
    "phi = 0.c1c2c3 can be: 0 _ 0.125 _ 0.25 _ 0.375 _ ... _ 0.875\n",
    "=> 2pi*(phi - 1) can be: ~ -6.28 _ -5.50 _ -4.71 _ ... _ -2.36 _ -1.57 _ -0.79 _ ... _ 0\n",
    "So the closest result is -1.57, which corresponds to phi = 0.75 (= 0.110 in binary)\n",
    "\"\"\""
   ]
  },
  {
   "cell_type": "code",
   "execution_count": 24,
   "metadata": {},
   "outputs": [
    {
     "data": {
      "image/png": "[encoded data removed]",
      "text/plain": [
       "<Figure size 640x480 with 1 Axes>"
      ]
     },
     "execution_count": 24,
     "metadata": {},
     "output_type": "execute_result"
    }
   ],
   "source": [
    "counts = job_result[0].data.res.get_counts()\n",
    "plot_histogram(counts)"
   ]
  },
  {
   "cell_type": "code",
   "execution_count": 25,
   "metadata": {},
   "outputs": [
    {
     "name": "stdout",
     "output_type": "stream",
     "text": [
      "phi = 0.75 => best approximation with 3 bits = -1.57 Ha\n"
     ]
    }
   ],
   "source": [
    "# get the most frequent result\n",
    "max_key, max_value = max(counts.items(), key=lambda x: x[1])\n",
    "\n",
    "phi = int(max_key[::-1], 2) / 8 # I have to reverse the string with this circuit because the first is the least significative bit, etc.\n",
    "                                # in fact, if you look at the plot of the circuit used here: https://learning.quantum.ibm.com/course/fundamentals-of-quantum-algorithms/phase-estimation-and-factoring#general-procedure-and-analysis\n",
    "                                # you can see that the inverse QFT has the number in reverse order as the circuit here.\n",
    "print(f'phi = {phi} => best approximation with 3 bits = {2*np.pi * (phi - 1):.2f} Ha')"
   ]
  },
  {
   "cell_type": "code",
   "execution_count": 26,
   "metadata": {},
   "outputs": [
    {
     "name": "stdout",
     "output_type": "stream",
     "text": [
      "qiskit==1.1.0\n",
      "qiskit-aer==0.14.2\n",
      "qiskit-algorithms==0.3.0\n",
      "qiskit-ibm-runtime==0.25.0\n",
      "qiskit-machine-learning==0.7.2\n",
      "qiskit-nature==0.7.2\n",
      "qiskit-nature-pyscf==0.4.0\n",
      "qiskit-qasm3-import==0.5.0\n",
      "qiskit-transpiler-service==0.4.5\n"
     ]
    }
   ],
   "source": [
    "! pip freeze | grep qiskit"
   ]
  }
 ],
 "metadata": {
  "kernelspec": {
   "display_name": "base",
   "language": "python",
   "name": "python3"
  },
  "language_info": {
   "codemirror_mode": {
    "name": "ipython",
    "version": 3
   },
   "file_extension": ".py",
   "mimetype": "text/x-python",
   "name": "python",
   "nbconvert_exporter": "python",
   "pygments_lexer": "ipython3",
   "version": "3.11.5"
  }
 },
 "nbformat": 4,
 "nbformat_minor": 1
}
