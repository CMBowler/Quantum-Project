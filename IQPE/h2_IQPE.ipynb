{
 "cells": [
  {
   "cell_type": "code",
   "execution_count": 1,
   "metadata": {},
   "outputs": [],
   "source": [
    "import time\n",
    "import pylab\n",
    "import numpy as np\n",
    "from scipy.linalg import expm\n",
    "from qiskit.primitives import StatevectorSampler\n",
    "from qiskit.quantum_info import Z2Symmetries\n",
    "from qiskit.circuit.library import UnitaryGate\n",
    "from qiskit_nature.second_q.drivers import PySCFDriver\n",
    "from qiskit_nature.units import DistanceUnit\n",
    "from qiskit_nature.second_q.mappers import ParityMapper\n",
    "from qiskit_nature.second_q.algorithms import GroundStateEigensolver\n",
    "from qiskit_nature.second_q.circuit.library import HartreeFock\n",
    "from qiskit_algorithms import NumPyMinimumEigensolver\n",
    "from qiskit_algorithms import IterativePhaseEstimation\n",
    "from qiskit.transpiler.preset_passmanagers import generate_preset_pass_manager\n",
    "from qiskit_ibm_runtime import QiskitRuntimeService, SamplerV2"
   ]
  },
  {
   "cell_type": "code",
   "execution_count": 2,
   "metadata": {},
   "outputs": [],
   "source": [
    "def compute_energy(i, distance, algorithm):\n",
    "    driver = PySCFDriver(\n",
    "        atom=f'H .0 .0 .0; H .0 .0 {distance}',\n",
    "        unit=DistanceUnit.ANGSTROM,\n",
    "        charge=0,\n",
    "        spin=0,\n",
    "        basis='sto3g'\n",
    "    )\n",
    "\n",
    "    molecule = driver.run()\n",
    "    mapper = ParityMapper(num_particles=molecule.num_particles)\n",
    "    fer_op = molecule.hamiltonian.second_q_op()\n",
    "    tapered_mapper = molecule.get_tapered_mapper(mapper)\n",
    "    qubit_op = tapered_mapper.map(fer_op)\n",
    "\n",
    "    if algorithm == 'NumPyMinimumEigensolver':\n",
    "        algo = NumPyMinimumEigensolver()\n",
    "        algo.filter_criterion = molecule.get_default_filter_criterion()\n",
    "        solver = GroundStateEigensolver(mapper, algo)\n",
    "        result = solver.solve(molecule)\n",
    "        gs_energy = result.total_energies[0]\n",
    "        \n",
    "    elif algorithm == 'IQPE':\n",
    "        num_iterations = 12  # Number of iterations for IQPE\n",
    "        state_in = HartreeFock(\n",
    "            molecule.num_spatial_orbitals,\n",
    "            molecule.num_particles, \n",
    "            tapered_mapper\n",
    "        )\n",
    "        sampler = SamplerV2(mode=backend) # Use the quantum hardware backend\n",
    "        iqpe = IterativePhaseEstimation(num_iterations, sampler)\n",
    "        U = UnitaryGate(expm(1j * qubit_op.to_matrix()))\n",
    "        result = 2 * np.pi * (iqpe.estimate(U, state_in).phase - 1)\n",
    "        gs_energy = result + molecule.nuclear_repulsion_energy\n",
    "    else:\n",
    "        raise ValueError(f'Unrecognized algorithm: {algorithm}')\n",
    "    return i, distance, gs_energy"
   ]
  },
  {
   "cell_type": "code",
   "execution_count": null,
   "metadata": {},
   "outputs": [],
   "source": [
    "iterations = 3\n",
    "qpe = IterativePhaseEstimation(iterations, StatevectorSampler())\n",
    "\n",
    "qr1 = QuantumRegister(num_result_bits, 'control')\n",
    "qr2 = QuantumRegister(1, 'target')\n",
    "cr = ClassicalRegister(num_result_bits, 'res')\n",
    "circuit = QuantumCircuit(qr1, qr2, cr)\n",
    "circuit.compose(qpe.construct_circuit(U, state_in), inplace=True)\n",
    "circuit.measure(qr1, cr)\n",
    "circuit.decompose().draw(output='mpl')"
   ]
  },
  {
   "cell_type": "code",
   "execution_count": 3,
   "metadata": {},
   "outputs": [
    {
     "ename": "NameError",
     "evalue": "name 'backend' is not defined",
     "output_type": "error",
     "traceback": [
      "\u001b[0;31m---------------------------------------------------------------------------\u001b[0m",
      "\u001b[0;31mNameError\u001b[0m                                 Traceback (most recent call last)",
      "Cell \u001b[0;32mIn[3], line 15\u001b[0m\n\u001b[1;32m     13\u001b[0m \u001b[38;5;28;01mfor\u001b[39;00m i \u001b[38;5;129;01min\u001b[39;00m \u001b[38;5;28mrange\u001b[39m(steps \u001b[38;5;241m+\u001b[39m \u001b[38;5;241m1\u001b[39m):\n\u001b[1;32m     14\u001b[0m     d \u001b[38;5;241m=\u001b[39m start \u001b[38;5;241m+\u001b[39m i \u001b[38;5;241m*\u001b[39m by \u001b[38;5;241m/\u001b[39m steps\n\u001b[0;32m---> 15\u001b[0m     i, d, energy \u001b[38;5;241m=\u001b[39m \u001b[43mcompute_energy\u001b[49m\u001b[43m(\u001b[49m\u001b[43mi\u001b[49m\u001b[43m,\u001b[49m\u001b[43m \u001b[49m\u001b[43md\u001b[49m\u001b[43m,\u001b[49m\u001b[43m \u001b[49m\u001b[43malgorithm\u001b[49m\u001b[43m)\u001b[49m\n\u001b[1;32m     16\u001b[0m     energies[j][i] \u001b[38;5;241m=\u001b[39m energy\n\u001b[1;32m     17\u001b[0m     distances[i] \u001b[38;5;241m=\u001b[39m d\n",
      "Cell \u001b[0;32mIn[2], line 30\u001b[0m, in \u001b[0;36mcompute_energy\u001b[0;34m(i, distance, algorithm)\u001b[0m\n\u001b[1;32m     24\u001b[0m num_iterations \u001b[38;5;241m=\u001b[39m \u001b[38;5;241m12\u001b[39m  \u001b[38;5;66;03m# Number of iterations for IQPE\u001b[39;00m\n\u001b[1;32m     25\u001b[0m state_in \u001b[38;5;241m=\u001b[39m HartreeFock(\n\u001b[1;32m     26\u001b[0m     molecule\u001b[38;5;241m.\u001b[39mnum_spatial_orbitals,\n\u001b[1;32m     27\u001b[0m     molecule\u001b[38;5;241m.\u001b[39mnum_particles, \n\u001b[1;32m     28\u001b[0m     tapered_mapper\n\u001b[1;32m     29\u001b[0m )\n\u001b[0;32m---> 30\u001b[0m sampler \u001b[38;5;241m=\u001b[39m SamplerV2(mode\u001b[38;5;241m=\u001b[39m\u001b[43mbackend\u001b[49m) \u001b[38;5;66;03m# Use the quantum hardware backend\u001b[39;00m\n\u001b[1;32m     31\u001b[0m iqpe \u001b[38;5;241m=\u001b[39m IterativePhaseEstimation(num_iterations, sampler)\n\u001b[1;32m     32\u001b[0m U \u001b[38;5;241m=\u001b[39m UnitaryGate(expm(\u001b[38;5;241m1\u001b[39mj \u001b[38;5;241m*\u001b[39m qubit_op\u001b[38;5;241m.\u001b[39mto_matrix()))\n",
      "\u001b[0;31mNameError\u001b[0m: name 'backend' is not defined"
     ]
    }
   ],
   "source": [
    "# Parameters\n",
    "algorithms = ['IQPE', 'NumPyMinimumEigensolver']\n",
    "start = 0.5  # Start distance\n",
    "by = 0.5  # Increment in distance\n",
    "steps = 3  # Number of steps (reduce for hardware)\n",
    "energies = np.empty([len(algorithms), steps + 1])\n",
    "distances = np.empty(steps + 1)\n",
    "\n",
    "# Run computations\n",
    "start_time = time.time()\n",
    "for j in range(len(algorithms)):\n",
    "    algorithm = algorithms[j]\n",
    "    for i in range(steps + 1):\n",
    "        d = start + i * by / steps\n",
    "        i, d, energy = compute_energy(i, d, algorithm)\n",
    "        energies[j][i] = energy\n",
    "        distances[i] = d\n",
    "        print(f\"Computed {algorithm} at distance {d:.2f}: Energy = {energy:.4f}\")\n",
    "\n",
    "print(\"--- %s seconds ---\" % (time.time() - start_time))\n",
    "\n",
    "# Plot results\n",
    "for j in range(len(algorithms)):\n",
    "    pylab.plot(distances, energies[j], label=algorithms[j])\n",
    "pylab.xlabel('Interatomic distance (Å)')\n",
    "pylab.ylabel('Energy (Hartree)')\n",
    "pylab.title('H2 Ground State Energy on Quantum Hardware')\n",
    "pylab.legend(loc='upper right')\n",
    "pylab.show()"
   ]
  }
 ],
 "metadata": {
  "kernelspec": {
   "display_name": "env",
   "language": "python",
   "name": "python3"
  },
  "language_info": {
   "codemirror_mode": {
    "name": "ipython",
    "version": 3
   },
   "file_extension": ".py",
   "mimetype": "text/x-python",
   "name": "python",
   "nbconvert_exporter": "python",
   "pygments_lexer": "ipython3",
   "version": "3.11.5"
  }
 },
 "nbformat": 4,
 "nbformat_minor": 2
}
